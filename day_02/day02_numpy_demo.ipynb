{
 "cells": [
  {
   "cell_type": "code",
   "execution_count": 1,
   "id": "ba1530e1",
   "metadata": {},
   "outputs": [],
   "source": [
    "import numpy as np"
   ]
  },
  {
   "cell_type": "code",
   "execution_count": 2,
   "id": "a974ef5c",
   "metadata": {},
   "outputs": [],
   "source": [
    "score = np.array([[80, 89, 86, 67, 79],\n",
    "[78, 97, 89, 67, 81],\n",
    "[90, 94, 78, 67, 74],\n",
    "[91, 91, 90, 67, 69],\n",
    "[76, 87, 75, 67, 86],\n",
    "[70, 79, 84, 67, 84],\n",
    "[94, 92, 93, 67, 64],\n",
    "[86, 85, 83, 67, 80]])"
   ]
  },
  {
   "cell_type": "code",
   "execution_count": 3,
   "id": "6aa59749",
   "metadata": {},
   "outputs": [
    {
     "data": {
      "text/plain": [
       "array([[80, 89, 86, 67, 79],\n",
       "       [78, 97, 89, 67, 81],\n",
       "       [90, 94, 78, 67, 74],\n",
       "       [91, 91, 90, 67, 69],\n",
       "       [76, 87, 75, 67, 86],\n",
       "       [70, 79, 84, 67, 84],\n",
       "       [94, 92, 93, 67, 64],\n",
       "       [86, 85, 83, 67, 80]])"
      ]
     },
     "execution_count": 3,
     "metadata": {},
     "output_type": "execute_result"
    }
   ],
   "source": [
    "score"
   ]
  },
  {
   "cell_type": "code",
   "execution_count": 4,
   "id": "7fb67829",
   "metadata": {},
   "outputs": [
    {
     "data": {
      "text/plain": [
       "numpy.ndarray"
      ]
     },
     "execution_count": 4,
     "metadata": {},
     "output_type": "execute_result"
    }
   ],
   "source": [
    "type(score)"
   ]
  },
  {
   "cell_type": "code",
   "execution_count": 7,
   "id": "f73a8008",
   "metadata": {},
   "outputs": [
    {
     "data": {
      "text/plain": [
       "(8, 5)"
      ]
     },
     "execution_count": 7,
     "metadata": {},
     "output_type": "execute_result"
    }
   ],
   "source": [
    "score.shape"
   ]
  },
  {
   "cell_type": "code",
   "execution_count": 8,
   "id": "e840cdae",
   "metadata": {},
   "outputs": [
    {
     "data": {
      "text/plain": [
       "2"
      ]
     },
     "execution_count": 8,
     "metadata": {},
     "output_type": "execute_result"
    }
   ],
   "source": [
    "score.ndim"
   ]
  },
  {
   "cell_type": "code",
   "execution_count": 9,
   "id": "8a7e20d4",
   "metadata": {},
   "outputs": [
    {
     "data": {
      "text/plain": [
       "40"
      ]
     },
     "execution_count": 9,
     "metadata": {},
     "output_type": "execute_result"
    }
   ],
   "source": [
    "score.size"
   ]
  },
  {
   "cell_type": "code",
   "execution_count": 10,
   "id": "13a4ebc8",
   "metadata": {},
   "outputs": [
    {
     "data": {
      "text/plain": [
       "dtype('int32')"
      ]
     },
     "execution_count": 10,
     "metadata": {},
     "output_type": "execute_result"
    }
   ],
   "source": [
    "score.dtype"
   ]
  },
  {
   "cell_type": "code",
   "execution_count": 11,
   "id": "16d290fb",
   "metadata": {},
   "outputs": [
    {
     "data": {
      "text/plain": [
       "4"
      ]
     },
     "execution_count": 11,
     "metadata": {},
     "output_type": "execute_result"
    }
   ],
   "source": [
    "score.itemsize"
   ]
  },
  {
   "cell_type": "markdown",
   "id": "1d9ac6e2",
   "metadata": {},
   "source": [
    "### ndarray与Python原生list运算效率对比"
   ]
  },
  {
   "cell_type": "code",
   "execution_count": 5,
   "id": "72caa05b",
   "metadata": {},
   "outputs": [],
   "source": [
    "import numpy as np\n",
    "import time\n",
    "import random"
   ]
  },
  {
   "cell_type": "code",
   "execution_count": 6,
   "id": "337bb25c",
   "metadata": {},
   "outputs": [
    {
     "name": "stdout",
     "output_type": "stream",
     "text": [
      "python_list length: 100000000\n",
      "list sum time: 0.21693944931030273\n",
      "ndarray sum time: 0.04863691329956055\n"
     ]
    }
   ],
   "source": [
    "python_list=[]\n",
    "for i in range(100000000):\n",
    "    python_list.append(random.random())\n",
    "print(\"python_list length:\", len(python_list))\n",
    "t1 = time.time()\n",
    "sum1=sum(python_list)\n",
    "t2 = time.time()\n",
    "\n",
    "ndarray_list=np.array(python_list)\n",
    "t3 = time.time()\n",
    "sum2=np.sum(ndarray_list)\n",
    "t4 = time.time()\n",
    "print(\"list sum time:\", t2-t1)\n",
    "print(\"ndarray sum time:\", t4-t3)"
   ]
  },
  {
   "cell_type": "markdown",
   "id": "1e062d2c",
   "metadata": {},
   "source": [
    "### ndarry的形状"
   ]
  },
  {
   "cell_type": "code",
   "execution_count": 12,
   "id": "02419681",
   "metadata": {},
   "outputs": [],
   "source": [
    "import numpy as np\n",
    "a = np.array([[1,2,3],[4,5,6]])   #(2,3)  \n",
    "b = np.array([1,2,3,4])\t\t\t   #(4,) \n",
    "c = np.array([[[1,2,3],[4,5,6]],[[1,2,3],[4,5,6]]])#(2,2,3)"
   ]
  },
  {
   "cell_type": "code",
   "execution_count": 13,
   "id": "bef001cb",
   "metadata": {},
   "outputs": [
    {
     "data": {
      "text/plain": [
       "array([[1, 2, 3],\n",
       "       [4, 5, 6]])"
      ]
     },
     "execution_count": 13,
     "metadata": {},
     "output_type": "execute_result"
    }
   ],
   "source": [
    "a"
   ]
  },
  {
   "cell_type": "code",
   "execution_count": 14,
   "id": "68ff177d",
   "metadata": {},
   "outputs": [
    {
     "data": {
      "text/plain": [
       "array([1, 2, 3, 4])"
      ]
     },
     "execution_count": 14,
     "metadata": {},
     "output_type": "execute_result"
    }
   ],
   "source": [
    "b"
   ]
  },
  {
   "cell_type": "code",
   "execution_count": 15,
   "id": "e6a3460f",
   "metadata": {},
   "outputs": [
    {
     "data": {
      "text/plain": [
       "array([[[1, 2, 3],\n",
       "        [4, 5, 6]],\n",
       "\n",
       "       [[1, 2, 3],\n",
       "        [4, 5, 6]]])"
      ]
     },
     "execution_count": 15,
     "metadata": {},
     "output_type": "execute_result"
    }
   ],
   "source": [
    "c"
   ]
  },
  {
   "cell_type": "code",
   "execution_count": 16,
   "id": "396164d0",
   "metadata": {},
   "outputs": [
    {
     "data": {
      "text/plain": [
       "(2, 3)"
      ]
     },
     "execution_count": 16,
     "metadata": {},
     "output_type": "execute_result"
    }
   ],
   "source": [
    "a.shape"
   ]
  },
  {
   "cell_type": "code",
   "execution_count": 17,
   "id": "57578a1e",
   "metadata": {},
   "outputs": [
    {
     "data": {
      "text/plain": [
       "(4,)"
      ]
     },
     "execution_count": 17,
     "metadata": {},
     "output_type": "execute_result"
    }
   ],
   "source": [
    "b.shape"
   ]
  },
  {
   "cell_type": "code",
   "execution_count": 18,
   "id": "3ff1e088",
   "metadata": {},
   "outputs": [
    {
     "data": {
      "text/plain": [
       "(2, 2, 3)"
      ]
     },
     "execution_count": 18,
     "metadata": {},
     "output_type": "execute_result"
    }
   ],
   "source": [
    "c.shape"
   ]
  },
  {
   "cell_type": "code",
   "execution_count": 26,
   "id": "212988ec",
   "metadata": {},
   "outputs": [],
   "source": [
    "data = np.array([1.1, 2.2, 3.3])"
   ]
  },
  {
   "cell_type": "code",
   "execution_count": 28,
   "id": "babb03f9",
   "metadata": {},
   "outputs": [
    {
     "data": {
      "text/plain": [
       "dtype('float64')"
      ]
     },
     "execution_count": 28,
     "metadata": {},
     "output_type": "execute_result"
    }
   ],
   "source": [
    "data.dtype"
   ]
  },
  {
   "cell_type": "code",
   "execution_count": 30,
   "id": "127b187b",
   "metadata": {},
   "outputs": [
    {
     "data": {
      "text/plain": [
       "dtype('float64')"
      ]
     },
     "execution_count": 30,
     "metadata": {},
     "output_type": "execute_result"
    }
   ],
   "source": [
    "np.array([1.1, 2.2, 3.3]).dtype"
   ]
  },
  {
   "cell_type": "code",
   "execution_count": 32,
   "id": "7eaf6255",
   "metadata": {},
   "outputs": [
    {
     "data": {
      "text/plain": [
       "dtype('float32')"
      ]
     },
     "execution_count": 32,
     "metadata": {},
     "output_type": "execute_result"
    }
   ],
   "source": [
    "np.array([1.1, 2.2, 3.3], dtype=np.float32).dtype"
   ]
  },
  {
   "cell_type": "markdown",
   "id": "f3cc5829",
   "metadata": {},
   "source": [
    "### 生成0和1的数组"
   ]
  },
  {
   "cell_type": "code",
   "execution_count": 35,
   "id": "6c0e0127",
   "metadata": {},
   "outputs": [
    {
     "data": {
      "text/plain": [
       "array([[0., 0., 0., 0.],\n",
       "       [0., 0., 0., 0.],\n",
       "       [0., 0., 0., 0.]], dtype=float32)"
      ]
     },
     "execution_count": 35,
     "metadata": {},
     "output_type": "execute_result"
    }
   ],
   "source": [
    "np.zeros(shape=(3, 4), dtype=\"float32\") # 生成一组0"
   ]
  },
  {
   "cell_type": "code",
   "execution_count": 36,
   "id": "befd7d12",
   "metadata": {},
   "outputs": [
    {
     "data": {
      "text/plain": [
       "array([[1, 1, 1],\n",
       "       [1, 1, 1]])"
      ]
     },
     "execution_count": 36,
     "metadata": {},
     "output_type": "execute_result"
    }
   ],
   "source": [
    "np.ones(shape=[2, 3], dtype=np.int32) # 生成一组1"
   ]
  },
  {
   "cell_type": "markdown",
   "id": "c20fa1a0",
   "metadata": {},
   "source": [
    "### 从现有数组生成"
   ]
  },
  {
   "cell_type": "code",
   "execution_count": 38,
   "id": "eb326c47",
   "metadata": {},
   "outputs": [],
   "source": [
    "data1 = np.array(score) # 深拷贝\n",
    "data2 = np.asarray(score) # 浅拷贝\n",
    "data3 = np.copy(score) # 深拷贝"
   ]
  },
  {
   "cell_type": "code",
   "execution_count": 39,
   "id": "b0240b15",
   "metadata": {},
   "outputs": [
    {
     "data": {
      "text/plain": [
       "array([[80, 89, 86, 67, 79],\n",
       "       [78, 97, 89, 67, 81],\n",
       "       [90, 94, 78, 67, 74],\n",
       "       [91, 91, 90, 67, 69],\n",
       "       [76, 87, 75, 67, 86],\n",
       "       [70, 79, 84, 67, 84],\n",
       "       [94, 92, 93, 67, 64],\n",
       "       [86, 85, 83, 67, 80]])"
      ]
     },
     "execution_count": 39,
     "metadata": {},
     "output_type": "execute_result"
    }
   ],
   "source": [
    "data1"
   ]
  },
  {
   "cell_type": "code",
   "execution_count": 40,
   "id": "2a8c094f",
   "metadata": {},
   "outputs": [
    {
     "data": {
      "text/plain": [
       "array([[80, 89, 86, 67, 79],\n",
       "       [78, 97, 89, 67, 81],\n",
       "       [90, 94, 78, 67, 74],\n",
       "       [91, 91, 90, 67, 69],\n",
       "       [76, 87, 75, 67, 86],\n",
       "       [70, 79, 84, 67, 84],\n",
       "       [94, 92, 93, 67, 64],\n",
       "       [86, 85, 83, 67, 80]])"
      ]
     },
     "execution_count": 40,
     "metadata": {},
     "output_type": "execute_result"
    }
   ],
   "source": [
    "data2"
   ]
  },
  {
   "cell_type": "code",
   "execution_count": 42,
   "id": "6fb39486",
   "metadata": {},
   "outputs": [
    {
     "data": {
      "text/plain": [
       "array([[80, 89, 86, 67, 79],\n",
       "       [78, 97, 89, 67, 81],\n",
       "       [90, 94, 78, 67, 74],\n",
       "       [91, 91, 90, 67, 69],\n",
       "       [76, 87, 75, 67, 86],\n",
       "       [70, 79, 84, 67, 84],\n",
       "       [94, 92, 93, 67, 64],\n",
       "       [86, 85, 83, 67, 80]])"
      ]
     },
     "execution_count": 42,
     "metadata": {},
     "output_type": "execute_result"
    }
   ],
   "source": [
    "data3"
   ]
  },
  {
   "cell_type": "code",
   "execution_count": 44,
   "id": "4a15ee33",
   "metadata": {},
   "outputs": [
    {
     "data": {
      "text/plain": [
       "array([[   80,    89,    86,    67,    79],\n",
       "       [   78,    97,    89,    67,    81],\n",
       "       [   90,    94,    78,    67,    74],\n",
       "       [   91, 10000,    90,    67,    69],\n",
       "       [   76,    87,    75,    67,    86],\n",
       "       [   70,    79,    84,    67,    84],\n",
       "       [   94,    92,    93,    67,    64],\n",
       "       [   86,    85,    83,    67,    80]])"
      ]
     },
     "execution_count": 44,
     "metadata": {},
     "output_type": "execute_result"
    }
   ],
   "source": [
    "score"
   ]
  },
  {
   "cell_type": "code",
   "execution_count": 45,
   "id": "ab3cf689",
   "metadata": {},
   "outputs": [],
   "source": [
    "score[3, 1] = 10000"
   ]
  },
  {
   "cell_type": "code",
   "execution_count": 47,
   "id": "ef405ec8",
   "metadata": {},
   "outputs": [
    {
     "data": {
      "text/plain": [
       "array([[80, 89, 86, 67, 79],\n",
       "       [78, 97, 89, 67, 81],\n",
       "       [90, 94, 78, 67, 74],\n",
       "       [91, 91, 90, 67, 69],\n",
       "       [76, 87, 75, 67, 86],\n",
       "       [70, 79, 84, 67, 84],\n",
       "       [94, 92, 93, 67, 64],\n",
       "       [86, 85, 83, 67, 80]])"
      ]
     },
     "execution_count": 47,
     "metadata": {},
     "output_type": "execute_result"
    }
   ],
   "source": [
    "data1"
   ]
  },
  {
   "cell_type": "code",
   "execution_count": 48,
   "id": "a2c436f8",
   "metadata": {},
   "outputs": [
    {
     "data": {
      "text/plain": [
       "array([[   80,    89,    86,    67,    79],\n",
       "       [   78,    97,    89,    67,    81],\n",
       "       [   90,    94,    78,    67,    74],\n",
       "       [   91, 10000,    90,    67,    69],\n",
       "       [   76,    87,    75,    67,    86],\n",
       "       [   70,    79,    84,    67,    84],\n",
       "       [   94,    92,    93,    67,    64],\n",
       "       [   86,    85,    83,    67,    80]])"
      ]
     },
     "execution_count": 48,
     "metadata": {},
     "output_type": "execute_result"
    }
   ],
   "source": [
    "data2"
   ]
  },
  {
   "cell_type": "code",
   "execution_count": 49,
   "id": "2cfd4acd",
   "metadata": {},
   "outputs": [
    {
     "data": {
      "text/plain": [
       "array([[80, 89, 86, 67, 79],\n",
       "       [78, 97, 89, 67, 81],\n",
       "       [90, 94, 78, 67, 74],\n",
       "       [91, 91, 90, 67, 69],\n",
       "       [76, 87, 75, 67, 86],\n",
       "       [70, 79, 84, 67, 84],\n",
       "       [94, 92, 93, 67, 64],\n",
       "       [86, 85, 83, 67, 80]])"
      ]
     },
     "execution_count": 49,
     "metadata": {},
     "output_type": "execute_result"
    }
   ],
   "source": [
    "data3"
   ]
  },
  {
   "cell_type": "markdown",
   "id": "61f0247f",
   "metadata": {},
   "source": [
    "### 生成固定范围的数组"
   ]
  },
  {
   "cell_type": "code",
   "execution_count": 50,
   "id": "61aa1b23",
   "metadata": {},
   "outputs": [
    {
     "data": {
      "text/plain": [
       "array([ 0. ,  2.5,  5. ,  7.5, 10. ])"
      ]
     },
     "execution_count": 50,
     "metadata": {},
     "output_type": "execute_result"
    }
   ],
   "source": [
    "np.linspace(0, 10, 5) # 生成[0,10]之间等距离的5个数"
   ]
  },
  {
   "cell_type": "code",
   "execution_count": 51,
   "id": "7f5e9d6a",
   "metadata": {},
   "outputs": [
    {
     "data": {
      "text/plain": [
       "array([ 0,  5, 10])"
      ]
     },
     "execution_count": 51,
     "metadata": {},
     "output_type": "execute_result"
    }
   ],
   "source": [
    "np.arange(0, 11, 5) # [0,11)，5为步长生成数组"
   ]
  },
  {
   "cell_type": "markdown",
   "id": "a168c0ee",
   "metadata": {},
   "source": [
    "### 生成随机数组"
   ]
  },
  {
   "cell_type": "code",
   "execution_count": 52,
   "id": "a9495729",
   "metadata": {},
   "outputs": [],
   "source": [
    "# 生成均匀分布的一组数[low,high)\n",
    "data1 = np.random.uniform(low=-1, high=1, size=1000000)"
   ]
  },
  {
   "cell_type": "code",
   "execution_count": 53,
   "id": "668e4c80",
   "metadata": {},
   "outputs": [
    {
     "data": {
      "text/plain": [
       "array([ 0.92610416, -0.76245234,  0.29628835, ...,  0.40878589,\n",
       "        0.9821284 ,  0.08048153])"
      ]
     },
     "execution_count": 53,
     "metadata": {},
     "output_type": "execute_result"
    }
   ],
   "source": [
    "data1"
   ]
  },
  {
   "cell_type": "code",
   "execution_count": 92,
   "id": "99cb729b",
   "metadata": {},
   "outputs": [
    {
     "data": {
      "image/png": "[encoded data removed]",
      "text/plain": [
       "<Figure size 1600x640 with 1 Axes>"
      ]
     },
     "metadata": {},
     "output_type": "display_data"
    }
   ],
   "source": [
    "import matplotlib.pyplot as plt\n",
    "\n",
    "plt.figure(figsize=(20, 8), dpi=80)\n",
    "\n",
    "plt.hist(data1, 1000)\n",
    "\n",
    "plt.show()"
   ]
  },
  {
   "cell_type": "code",
   "execution_count": 54,
   "id": "5c750d05",
   "metadata": {},
   "outputs": [],
   "source": [
    "# 生成正态分布的一组数，loc：均值；scale：标准差\n",
    "data2 = np.random.normal(loc=1.75, scale=0.1, size=1000000)"
   ]
  },
  {
   "cell_type": "code",
   "execution_count": 56,
   "id": "ed889900",
   "metadata": {},
   "outputs": [
    {
     "data": {
      "text/plain": [
       "array([1.80173049, 1.82890769, 1.77355772, ..., 1.8310801 , 1.64541128,\n",
       "       1.87346318])"
      ]
     },
     "execution_count": 56,
     "metadata": {},
     "output_type": "execute_result"
    }
   ],
   "source": [
    "data2"
   ]
  },
  {
   "cell_type": "code",
   "execution_count": 58,
   "id": "3f325d12",
   "metadata": {},
   "outputs": [
    {
     "data": {
      "text/plain": [
       "1000000"
      ]
     },
     "execution_count": 58,
     "metadata": {},
     "output_type": "execute_result"
    }
   ],
   "source": [
    "data2.size"
   ]
  },
  {
   "cell_type": "code",
   "execution_count": 91,
   "id": "0ce3d231",
   "metadata": {},
   "outputs": [
    {
     "data": {
      "image/png": "[encoded data removed]",
      "text/plain": [
       "<Figure size 1600x640 with 1 Axes>"
      ]
     },
     "metadata": {},
     "output_type": "display_data"
    }
   ],
   "source": [
    "import matplotlib.pyplot as plt\n",
    "\n",
    "plt.figure(figsize=(20, 8), dpi=80)\n",
    "\n",
    "plt.hist(data2, 1000)\n",
    "\n",
    "plt.show()"
   ]
  },
  {
   "cell_type": "markdown",
   "id": "670c5d4c",
   "metadata": {},
   "source": [
    "## 案例：随机生成8只股票2周的交易日涨幅数据\n",
    "### 数组的索引、切片"
   ]
  },
  {
   "cell_type": "code",
   "execution_count": 60,
   "id": "5e1aca29",
   "metadata": {},
   "outputs": [],
   "source": [
    "stock_change = np.random.normal(loc=0, scale=1, size=(8, 10))"
   ]
  },
  {
   "cell_type": "code",
   "execution_count": 61,
   "id": "4d7e0b63",
   "metadata": {},
   "outputs": [
    {
     "data": {
      "text/plain": [
       "array([[-0.1380654 ,  1.10368372,  0.494523  ,  0.77338961, -1.24651762,\n",
       "        -0.67101324,  0.40379495,  1.11668378,  0.34332217, -0.44422631],\n",
       "       [ 1.47992227,  0.317205  ,  0.62578183, -1.12910684, -0.76859669,\n",
       "         0.42325279, -1.32640453,  2.08356949, -0.93340341, -0.9807284 ],\n",
       "       [ 0.75224939, -0.25600931,  0.38810008,  0.20005596, -0.72438251,\n",
       "        -0.10263063,  1.33876917, -0.94888948,  2.26172557, -1.40101895],\n",
       "       [-0.46662543, -1.05153964,  2.20988884, -1.02201517, -1.00186554,\n",
       "        -0.8076735 ,  0.66326782,  0.77156778, -0.41307181,  0.61737083],\n",
       "       [ 1.1660736 ,  0.05337125,  1.82721174,  1.41388155,  2.25832514,\n",
       "         0.24051053,  1.1459172 ,  0.43645279,  0.50507656,  1.72422552],\n",
       "       [ 0.00555202, -0.97246068, -1.15637235,  0.88440964, -1.74040107,\n",
       "        -0.21457578,  1.98666722, -1.08855284,  0.38652274, -0.41689717],\n",
       "       [ 0.13325976,  1.02074681, -0.1879591 ,  0.39495738, -0.59243715,\n",
       "         0.05050545, -0.55787669, -0.83048267,  0.17134644, -0.46028002],\n",
       "       [ 0.34013259,  0.44333017,  0.96032382, -0.99781428,  0.29374411,\n",
       "         0.86882428, -0.18085327,  0.9162846 ,  0.11674331, -1.33293147]])"
      ]
     },
     "execution_count": 61,
     "metadata": {},
     "output_type": "execute_result"
    }
   ],
   "source": [
    "stock_change"
   ]
  },
  {
   "cell_type": "code",
   "execution_count": 62,
   "id": "7eec5a0d",
   "metadata": {},
   "outputs": [
    {
     "name": "stdout",
     "output_type": "stream",
     "text": [
      "[-0.1380654   1.10368372  0.494523  ]\n"
     ]
    }
   ],
   "source": [
    "# 获取第一个股票的前3个交易日的涨跌幅数据\n",
    "print(stock_change[0, :3])"
   ]
  },
  {
   "cell_type": "markdown",
   "id": "f29768e6",
   "metadata": {},
   "source": [
    "### 形状修改"
   ]
  },
  {
   "cell_type": "code",
   "execution_count": 63,
   "id": "e1ea7b2f",
   "metadata": {},
   "outputs": [
    {
     "data": {
      "text/plain": [
       "array([[-0.1380654 ,  1.10368372,  0.494523  ,  0.77338961, -1.24651762,\n",
       "        -0.67101324,  0.40379495,  1.11668378],\n",
       "       [ 0.34332217, -0.44422631,  1.47992227,  0.317205  ,  0.62578183,\n",
       "        -1.12910684, -0.76859669,  0.42325279],\n",
       "       [-1.32640453,  2.08356949, -0.93340341, -0.9807284 ,  0.75224939,\n",
       "        -0.25600931,  0.38810008,  0.20005596],\n",
       "       [-0.72438251, -0.10263063,  1.33876917, -0.94888948,  2.26172557,\n",
       "        -1.40101895, -0.46662543, -1.05153964],\n",
       "       [ 2.20988884, -1.02201517, -1.00186554, -0.8076735 ,  0.66326782,\n",
       "         0.77156778, -0.41307181,  0.61737083],\n",
       "       [ 1.1660736 ,  0.05337125,  1.82721174,  1.41388155,  2.25832514,\n",
       "         0.24051053,  1.1459172 ,  0.43645279],\n",
       "       [ 0.50507656,  1.72422552,  0.00555202, -0.97246068, -1.15637235,\n",
       "         0.88440964, -1.74040107, -0.21457578],\n",
       "       [ 1.98666722, -1.08855284,  0.38652274, -0.41689717,  0.13325976,\n",
       "         1.02074681, -0.1879591 ,  0.39495738],\n",
       "       [-0.59243715,  0.05050545, -0.55787669, -0.83048267,  0.17134644,\n",
       "        -0.46028002,  0.34013259,  0.44333017],\n",
       "       [ 0.96032382, -0.99781428,  0.29374411,  0.86882428, -0.18085327,\n",
       "         0.9162846 ,  0.11674331, -1.33293147]])"
      ]
     },
     "execution_count": 63,
     "metadata": {},
     "output_type": "execute_result"
    }
   ],
   "source": [
    "stock_change.reshape((10, 8)) # 返回新的ndarray,原始数据没有改变"
   ]
  },
  {
   "cell_type": "code",
   "execution_count": 64,
   "id": "967eeaf4",
   "metadata": {},
   "outputs": [],
   "source": [
    "stock_change.resize((10, 8)) # 没有返回值，对原始的ndarray进行了修改"
   ]
  },
  {
   "cell_type": "code",
   "execution_count": 94,
   "id": "35cee387",
   "metadata": {},
   "outputs": [
    {
     "data": {
      "text/plain": [
       "(8, 10)"
      ]
     },
     "execution_count": 94,
     "metadata": {},
     "output_type": "execute_result"
    }
   ],
   "source": [
    "stock_change.T.shape # 转置 行变成列，列变成行"
   ]
  },
  {
   "cell_type": "code",
   "execution_count": 93,
   "id": "cb97eb79",
   "metadata": {},
   "outputs": [
    {
     "data": {
      "text/plain": [
       "(10, 8)"
      ]
     },
     "execution_count": 93,
     "metadata": {},
     "output_type": "execute_result"
    }
   ],
   "source": [
    "stock_change.shape"
   ]
  },
  {
   "cell_type": "markdown",
   "id": "db3ec101",
   "metadata": {},
   "source": [
    "### 类型修改"
   ]
  },
  {
   "cell_type": "code",
   "execution_count": 67,
   "id": "0b86b54b",
   "metadata": {},
   "outputs": [
    {
     "data": {
      "text/plain": [
       "array([[ 0,  1,  0,  0, -1,  0,  0,  1],\n",
       "       [ 0,  0,  1,  0,  0, -1,  0,  0],\n",
       "       [-1,  2,  0,  0,  0,  0,  0,  0],\n",
       "       [ 0,  0,  1,  0,  2, -1,  0, -1],\n",
       "       [ 2, -1, -1,  0,  0,  0,  0,  0],\n",
       "       [ 1,  0,  1,  1,  2,  0,  1,  0],\n",
       "       [ 0,  1,  0,  0, -1,  0, -1,  0],\n",
       "       [ 1, -1,  0,  0,  0,  1,  0,  0],\n",
       "       [ 0,  0,  0,  0,  0,  0,  0,  0],\n",
       "       [ 0,  0,  0,  0,  0,  0,  0, -1]])"
      ]
     },
     "execution_count": 67,
     "metadata": {},
     "output_type": "execute_result"
    }
   ],
   "source": [
    "stock_change.astype(\"int32\")"
   ]
  },
  {
   "cell_type": "code",
   "execution_count": 69,
   "id": "e4df16e1",
   "metadata": {},
   "outputs": [
    {
     "data": {
      "text/plain": [
       "b'\\x94\\xb5\\x99\\x82 \\xac\\xc1\\xbf{g\\xf0A\\xb0\\xa8\\xf1?\\xcfH\\xc3\\xcaC\\xa6\\xdf?w\\x11W\\x8f\\x9b\\xbf\\xe8?\\x0f\\xf83u\\xbc\\xf1\\xf3\\xbf\\xdb/\"\\xc1\\xf0x\\xe5\\xbf\\x90\\xcd\\xcf\\xc8\\xc6\\xd7\\xd9?A.\\xdb\\xcf\\xef\\xdd\\xf1?\\x12\\xa1\\xbb\\x8c\\xfd\\xf8\\xd5?\\xf9(J-4n\\xdc\\xbf\\xa1.\\xe5\\xf8\\xc2\\xad\\xf7?\\xc1j\\xb6.\\x16M\\xd4?\\x11\\x1a\\xd3\\x9bg\\x06\\xe4?\\xe4\\x00pU\\xd2\\x10\\xf2\\xbf \\x8c\\x1a\\x18X\\x98\\xe8\\xbf\\xd3\\x0b#\\xe3\\x92\\x16\\xdb?Z\\xbe\\x1d\\xf5\\xf38\\xf5\\xbf\\xee\\xae\\x14{&\\xab\\x00@\\xeff\\x00\\xd2p\\xde\\xed\\xbf\\x80FN\\x84 b\\xef\\xbf\\xb06kRm\\x12\\xe8?Hv;\\xdetb\\xd0\\xbfaK\\xf4\\xb3\\xa1\\xd6\\xd8?\\x08\\r\\xc4\\x01o\\x9b\\xc9?\\x9c\\xfaR=$.\\xe7\\xbf9)\\x16F\\x00F\\xba\\xbf\\xa3_p8\\x99k\\xf5?\\xbe\\x85\\x1f{M]\\xee\\xbf=\\xef\\x08\\x93\\x03\\x18\\x02@\\xc0{I\\xd9\\x92j\\xf6\\xbfNaO\\xec0\\xdd\\xdd\\xbf?\\xb4\\\\:\\x1b\\xd3\\xf0\\xbf\\xc0g\\xe82\\xda\\xad\\x01@$\\xe3V\\x94,Z\\xf0\\xbf*\\xbb\\xd5\\'\\xa4\\x07\\xf0\\xbf\\x8c\\xf0\\xe9\\x17v\\xd8\\xe9\\xbf\\xd3=\\xbdn}9\\xe5?\\xb5\\xb0d\\xe7\\xae\\xb0\\xe8?\\xf3\\xbd\\'\\xc0\\xc4o\\xda\\xbf\\x11\\xb9#x\\x80\\xc1\\xe3?\\x8eu\\x07\\xca<\\xa8\\xf2?y\\x8b^\\xf4yS\\xab?+\\xa7\\xa8`B<\\xfd?\\xd6\\x18\\x1fBB\\x9f\\xf6?\\xd8\\t\\x1c\\xc5\\x0c\\x11\\x02@\\x06oI\\x97\\x0c\\xc9\\xce?\\x88.\\x0cF\\xadU\\xf2?Hm*\\xab\\xd7\\xee\\xdb?\\xff\\xdc\\xd4P\\x96)\\xe0?w\\x1f\\x0c\\x81m\\x96\\xfb?\\xd5\\x85Y\\x06\\xb7\\xbdv?QLt\\xdbe\\x1e\\xef\\xbf~ \\xabJ\\x80\\x80\\xf2\\xbf\\x06#!t\\x15M\\xec?\\xd9\\xaaE\\xcb\\xae\\xd8\\xfb\\xbfl\\t\\x0c!8w\\xcb\\xbf\\x88\\xde|\\x91c\\xc9\\xff?\\x12\\x93\\xae`\\xb6j\\xf1\\xbfih\\xab\\xde\\xc9\\xbc\\xd8?\\x98m\\xff|q\\xae\\xda\\xbf\\xa4\\xd7<\\xee\\xa7\\x0e\\xc1?R\\x16t\\x9c\\xfaT\\xf0?\\xa3\\x95\\x984\\x0b\\x0f\\xc8\\xbfBK\\x87V\\xfbF\\xd9?\\xab\\xcb\\xd4\\xc2>\\xf5\\xe2\\xbf\\xc5\\xbb\\xb8\\xb1\\xd9\\xdb\\xa9?lbB5 \\xda\\xe1\\xbfi\"\\xa2bP\\x93\\xea\\xbf\\xd3\\xe3t&\\xae\\xee\\xc5?\\xf0Z\\xdcS:u\\xdd\\xbf\\x80\\xbdQ~\\xbb\\xc4\\xd5?6H@\\x80\\x85_\\xdc?DXh\\x03\\xf9\\xba\\xee?L\\xf9\\x9f6\\x18\\xee\\xef\\xbfE\\xf7\\x0b\\x1b\\xb4\\xcc\\xd2?\\xfd8a\\x95h\\xcd\\xeb?\\x88]\\xcd&3&\\xc7\\xbf\\xcf\\xa3\\xa8\\x124R\\xed?\\x93\\x8cG\\xbe\\xe3\\xe2\\xbd?\\xf3\\tw\\xf2\\xafS\\xf5\\xbf'"
      ]
     },
     "execution_count": 69,
     "metadata": {},
     "output_type": "execute_result"
    }
   ],
   "source": [
    "# stock_change.tostring() # ndarray序列化到本地，此方法已被弃用\n",
    "stock_change.tobytes()"
   ]
  },
  {
   "cell_type": "markdown",
   "id": "b0e4645a",
   "metadata": {},
   "source": [
    "### 数组去重"
   ]
  },
  {
   "cell_type": "code",
   "execution_count": 70,
   "id": "000acbfd",
   "metadata": {},
   "outputs": [],
   "source": [
    "temp = np.array([[1, 2, 3, 4],[3, 4, 5, 6]])"
   ]
  },
  {
   "cell_type": "code",
   "execution_count": 72,
   "id": "de0786d1",
   "metadata": {},
   "outputs": [
    {
     "data": {
      "text/plain": [
       "array([1, 2, 3, 4, 5, 6])"
      ]
     },
     "execution_count": 72,
     "metadata": {},
     "output_type": "execute_result"
    }
   ],
   "source": [
    "np.unique(temp)"
   ]
  },
  {
   "cell_type": "code",
   "execution_count": 73,
   "id": "cc55260d",
   "metadata": {},
   "outputs": [
    {
     "data": {
      "text/plain": [
       "{1, 2, 3, 4, 5, 6}"
      ]
     },
     "execution_count": 73,
     "metadata": {},
     "output_type": "execute_result"
    }
   ],
   "source": [
    "set(temp.flatten())"
   ]
  },
  {
   "cell_type": "markdown",
   "id": "1cbc1c56",
   "metadata": {},
   "source": [
    "## ndarray运算\n",
    "### 逻辑运算符\n",
    "#### 运算符"
   ]
  },
  {
   "cell_type": "code",
   "execution_count": 74,
   "id": "225b4679",
   "metadata": {},
   "outputs": [
    {
     "data": {
      "text/plain": [
       "array([[False,  True, False,  True, False, False, False,  True],\n",
       "       [False, False,  True, False,  True, False, False, False],\n",
       "       [False,  True, False, False,  True, False, False, False],\n",
       "       [False, False,  True, False,  True, False, False, False],\n",
       "       [ True, False, False, False,  True,  True, False,  True],\n",
       "       [ True, False,  True,  True,  True, False,  True, False],\n",
       "       [ True,  True, False, False, False,  True, False, False],\n",
       "       [ True, False, False, False, False,  True, False, False],\n",
       "       [False, False, False, False, False, False, False, False],\n",
       "       [ True, False, False,  True, False,  True, False, False]])"
      ]
     },
     "execution_count": 74,
     "metadata": {},
     "output_type": "execute_result"
    }
   ],
   "source": [
    "# 逻辑判断, 如果涨跌幅大于0.5就标记为True 否则为False\n",
    "stock_change > 0.5"
   ]
  },
  {
   "cell_type": "code",
   "execution_count": 76,
   "id": "1a442955",
   "metadata": {},
   "outputs": [],
   "source": [
    "stock_change[stock_change > 0.5] = 1.1"
   ]
  },
  {
   "cell_type": "code",
   "execution_count": 77,
   "id": "9833873b",
   "metadata": {},
   "outputs": [
    {
     "data": {
      "text/plain": [
       "array([[-0.1380654 ,  1.1       ,  0.494523  ,  1.1       , -1.24651762,\n",
       "        -0.67101324,  0.40379495,  1.1       ],\n",
       "       [ 0.34332217, -0.44422631,  1.1       ,  0.317205  ,  1.1       ,\n",
       "        -1.12910684, -0.76859669,  0.42325279],\n",
       "       [-1.32640453,  1.1       , -0.93340341, -0.9807284 ,  1.1       ,\n",
       "        -0.25600931,  0.38810008,  0.20005596],\n",
       "       [-0.72438251, -0.10263063,  1.1       , -0.94888948,  1.1       ,\n",
       "        -1.40101895, -0.46662543, -1.05153964],\n",
       "       [ 1.1       , -1.02201517, -1.00186554, -0.8076735 ,  1.1       ,\n",
       "         1.1       , -0.41307181,  1.1       ],\n",
       "       [ 1.1       ,  0.05337125,  1.1       ,  1.1       ,  1.1       ,\n",
       "         0.24051053,  1.1       ,  0.43645279],\n",
       "       [ 1.1       ,  1.1       ,  0.00555202, -0.97246068, -1.15637235,\n",
       "         1.1       , -1.74040107, -0.21457578],\n",
       "       [ 1.1       , -1.08855284,  0.38652274, -0.41689717,  0.13325976,\n",
       "         1.1       , -0.1879591 ,  0.39495738],\n",
       "       [-0.59243715,  0.05050545, -0.55787669, -0.83048267,  0.17134644,\n",
       "        -0.46028002,  0.34013259,  0.44333017],\n",
       "       [ 1.1       , -0.99781428,  0.29374411,  1.1       , -0.18085327,\n",
       "         1.1       ,  0.11674331, -1.33293147]])"
      ]
     },
     "execution_count": 77,
     "metadata": {},
     "output_type": "execute_result"
    }
   ],
   "source": [
    "stock_change"
   ]
  },
  {
   "cell_type": "markdown",
   "id": "c12eb0f3",
   "metadata": {},
   "source": [
    "#### 通用判断函数"
   ]
  },
  {
   "cell_type": "code",
   "execution_count": 78,
   "id": "c4cdfb0c",
   "metadata": {},
   "outputs": [
    {
     "data": {
      "text/plain": [
       "False"
      ]
     },
     "execution_count": 78,
     "metadata": {},
     "output_type": "execute_result"
    }
   ],
   "source": [
    "# 判断stock_change[0:2, 0:5]是否全是上涨的\n",
    "np.all(stock_change[0:2, 0:5] > 0)"
   ]
  },
  {
   "cell_type": "code",
   "execution_count": 79,
   "id": "b5494c52",
   "metadata": {},
   "outputs": [
    {
     "data": {
      "text/plain": [
       "True"
      ]
     },
     "execution_count": 79,
     "metadata": {},
     "output_type": "execute_result"
    }
   ],
   "source": [
    "# 判断前5只股票这段期间是否有上涨的\n",
    "np.any(stock_change[:5, :] > 0)"
   ]
  },
  {
   "cell_type": "code",
   "execution_count": 95,
   "id": "9dfc24ed",
   "metadata": {},
   "outputs": [
    {
     "data": {
      "text/plain": [
       "array([[False,  True,  True,  True, False, False,  True,  True],\n",
       "       [ True, False,  True,  True,  True, False, False,  True],\n",
       "       [False,  True, False, False,  True, False,  True,  True],\n",
       "       [False, False,  True, False,  True, False, False, False],\n",
       "       [ True, False, False, False,  True,  True, False,  True]])"
      ]
     },
     "execution_count": 95,
     "metadata": {},
     "output_type": "execute_result"
    }
   ],
   "source": [
    "stock_change[:5, :] > 0"
   ]
  },
  {
   "cell_type": "markdown",
   "id": "7688cea1",
   "metadata": {},
   "source": [
    "#### 三元运算符"
   ]
  },
  {
   "cell_type": "code",
   "execution_count": 96,
   "id": "ed977d04",
   "metadata": {},
   "outputs": [],
   "source": [
    "temp = stock_change[:4, :4]"
   ]
  },
  {
   "cell_type": "code",
   "execution_count": 97,
   "id": "b1dd0f0e",
   "metadata": {},
   "outputs": [
    {
     "data": {
      "text/plain": [
       "array([[-0.1380654 ,  1.1       ,  0.494523  ,  1.1       ],\n",
       "       [ 0.34332217, -0.44422631,  1.1       ,  0.317205  ],\n",
       "       [-1.32640453,  1.1       , -0.93340341, -0.9807284 ],\n",
       "       [-0.72438251, -0.10263063,  1.1       , -0.94888948]])"
      ]
     },
     "execution_count": 97,
     "metadata": {},
     "output_type": "execute_result"
    }
   ],
   "source": [
    "temp"
   ]
  },
  {
   "cell_type": "code",
   "execution_count": 98,
   "id": "91edacba",
   "metadata": {},
   "outputs": [
    {
     "data": {
      "text/plain": [
       "array([[0, 1, 1, 1],\n",
       "       [1, 0, 1, 1],\n",
       "       [0, 1, 0, 0],\n",
       "       [0, 0, 1, 0]])"
      ]
     },
     "execution_count": 98,
     "metadata": {},
     "output_type": "execute_result"
    }
   ],
   "source": [
    "# np.where(布尔值，True的位置的值，False的位置的值)\n",
    "np.where(temp > 0, 1, 0)"
   ]
  },
  {
   "cell_type": "code",
   "execution_count": 99,
   "id": "009e1d66",
   "metadata": {},
   "outputs": [
    {
     "data": {
      "text/plain": [
       "array([[0, 0, 0, 0],\n",
       "       [0, 0, 0, 0],\n",
       "       [0, 0, 0, 0],\n",
       "       [0, 0, 0, 0]])"
      ]
     },
     "execution_count": 99,
     "metadata": {},
     "output_type": "execute_result"
    }
   ],
   "source": [
    "# 大于0.5且小于1\n",
    "np.where(np.logical_and(temp > 0.5, temp < 1), 1, 0)"
   ]
  },
  {
   "cell_type": "code",
   "execution_count": 100,
   "id": "61c46009",
   "metadata": {},
   "outputs": [
    {
     "data": {
      "text/plain": [
       "array([[ 3, 11,  3, 11],\n",
       "       [ 3,  3, 11,  3],\n",
       "       [11, 11, 11, 11],\n",
       "       [11,  3, 11, 11]])"
      ]
     },
     "execution_count": 100,
     "metadata": {},
     "output_type": "execute_result"
    }
   ],
   "source": [
    "# 大于0.5或小于-0.5\n",
    "np.where(np.logical_or(temp > 0.5, temp < -0.5), 11, 3)"
   ]
  },
  {
   "cell_type": "markdown",
   "id": "5beb30b4",
   "metadata": {},
   "source": [
    "### 统计运算\n",
    "#### 统计指标函数"
   ]
  },
  {
   "cell_type": "code",
   "execution_count": 101,
   "id": "3368c972",
   "metadata": {},
   "outputs": [
    {
     "data": {
      "text/plain": [
       "array([0.34332217, 1.1       , 1.1       , 1.1       ])"
      ]
     },
     "execution_count": 101,
     "metadata": {},
     "output_type": "execute_result"
    }
   ],
   "source": [
    "temp.max(axis=0)"
   ]
  },
  {
   "cell_type": "code",
   "execution_count": 102,
   "id": "9ed081a7",
   "metadata": {},
   "outputs": [
    {
     "data": {
      "text/plain": [
       "array([1.1, 1.1, 1.1, 1.1])"
      ]
     },
     "execution_count": 102,
     "metadata": {},
     "output_type": "execute_result"
    }
   ],
   "source": [
    "np.max(temp, axis=1)"
   ]
  },
  {
   "cell_type": "code",
   "execution_count": 103,
   "id": "c016e661",
   "metadata": {},
   "outputs": [
    {
     "data": {
      "text/plain": [
       "array([1, 2, 1, 2], dtype=int64)"
      ]
     },
     "execution_count": 103,
     "metadata": {},
     "output_type": "execute_result"
    }
   ],
   "source": [
    "np.argmax(temp, axis=-1)"
   ]
  },
  {
   "cell_type": "markdown",
   "id": "54ae3513",
   "metadata": {},
   "source": [
    "### 数组与数的运算"
   ]
  },
  {
   "cell_type": "code",
   "execution_count": 109,
   "id": "bab1c05c",
   "metadata": {},
   "outputs": [],
   "source": [
    "arr = np.array([[1, 2, 3, 2, 1, 4],\n",
    "               [5, 6, 1, 2, 3, 1]])"
   ]
  },
  {
   "cell_type": "code",
   "execution_count": 111,
   "id": "bc02b84f",
   "metadata": {},
   "outputs": [
    {
     "data": {
      "text/plain": [
       "array([[0.1, 0.2, 0.3, 0.2, 0.1, 0.4],\n",
       "       [0.5, 0.6, 0.1, 0.2, 0.3, 0.1]])"
      ]
     },
     "execution_count": 111,
     "metadata": {},
     "output_type": "execute_result"
    }
   ],
   "source": [
    "arr / 10"
   ]
  },
  {
   "cell_type": "code",
   "execution_count": 112,
   "id": "c4452899",
   "metadata": {},
   "outputs": [],
   "source": [
    "a = [1, 2, 3, 4, 5]"
   ]
  },
  {
   "cell_type": "code",
   "execution_count": 114,
   "id": "1731f02d",
   "metadata": {},
   "outputs": [],
   "source": [
    "# a * 10"
   ]
  },
  {
   "cell_type": "code",
   "execution_count": 115,
   "id": "b567f923",
   "metadata": {},
   "outputs": [],
   "source": [
    "arr1 = np.array([[1, 2, 3, 2, 1, 4],\n",
    "               [5, 6, 1, 2, 3, 1]])\n",
    "arr2 = np.array([[1, 2, 3, 4],\n",
    "               [3, 4, 5, 6]])"
   ]
  },
  {
   "cell_type": "code",
   "execution_count": 118,
   "id": "1739616f",
   "metadata": {},
   "outputs": [],
   "source": [
    "# arr1 + arr2"
   ]
  },
  {
   "cell_type": "code",
   "execution_count": 119,
   "id": "1c7d12d8",
   "metadata": {},
   "outputs": [],
   "source": [
    "arr1 = np.array([[1, 2, 3, 2, 1, 4],\n",
    "               [5, 6, 1, 2, 3, 1]])\n",
    "arr2 = np.array([[1],\n",
    "               [3]])"
   ]
  },
  {
   "cell_type": "code",
   "execution_count": 120,
   "id": "2e0e8d18",
   "metadata": {},
   "outputs": [
    {
     "data": {
      "text/plain": [
       "array([[2, 3, 4, 3, 2, 5],\n",
       "       [8, 9, 4, 5, 6, 4]])"
      ]
     },
     "execution_count": 120,
     "metadata": {},
     "output_type": "execute_result"
    }
   ],
   "source": [
    "arr1 + arr2"
   ]
  },
  {
   "cell_type": "code",
   "execution_count": 121,
   "id": "59c2924a",
   "metadata": {},
   "outputs": [
    {
     "data": {
      "text/plain": [
       "array([[ 1,  2,  3,  2,  1,  4],\n",
       "       [15, 18,  3,  6,  9,  3]])"
      ]
     },
     "execution_count": 121,
     "metadata": {},
     "output_type": "execute_result"
    }
   ],
   "source": [
    "arr1 * arr2"
   ]
  },
  {
   "cell_type": "code",
   "execution_count": 123,
   "id": "243dfc32",
   "metadata": {},
   "outputs": [
    {
     "data": {
      "text/plain": [
       "array([[1.        , 2.        , 3.        , 2.        , 1.        ,\n",
       "        4.        ],\n",
       "       [1.66666667, 2.        , 0.33333333, 0.66666667, 1.        ,\n",
       "        0.33333333]])"
      ]
     },
     "execution_count": 123,
     "metadata": {},
     "output_type": "execute_result"
    }
   ],
   "source": [
    "arr1 / arr2"
   ]
  },
  {
   "cell_type": "markdown",
   "id": "c0cc1775",
   "metadata": {},
   "source": [
    "### 矩阵运算"
   ]
  },
  {
   "cell_type": "code",
   "execution_count": 124,
   "id": "6eb34867",
   "metadata": {},
   "outputs": [],
   "source": [
    "data =np.array([[80, 86],\n",
    "                [82, 80],\n",
    "                [85, 78],\n",
    "                [90, 90],\n",
    "                [86, 82],\n",
    "                [82, 90],\n",
    "                [78, 80],\n",
    "                [92, 94]])"
   ]
  },
  {
   "cell_type": "code",
   "execution_count": 128,
   "id": "d891a3b7",
   "metadata": {},
   "outputs": [],
   "source": [
    "data_mat = np.mat(data)"
   ]
  },
  {
   "cell_type": "code",
   "execution_count": 129,
   "id": "34f536e6",
   "metadata": {},
   "outputs": [
    {
     "data": {
      "text/plain": [
       "numpy.matrix"
      ]
     },
     "execution_count": 129,
     "metadata": {},
     "output_type": "execute_result"
    }
   ],
   "source": [
    "type(data_mat)"
   ]
  },
  {
   "cell_type": "code",
   "execution_count": 130,
   "id": "476533dd",
   "metadata": {},
   "outputs": [],
   "source": [
    "weights = np.array([[0.3], [0.7]])"
   ]
  },
  {
   "cell_type": "code",
   "execution_count": 131,
   "id": "188a9c5d",
   "metadata": {},
   "outputs": [
    {
     "data": {
      "text/plain": [
       "array([[0.3],\n",
       "       [0.7]])"
      ]
     },
     "execution_count": 131,
     "metadata": {},
     "output_type": "execute_result"
    }
   ],
   "source": [
    "weights"
   ]
  },
  {
   "cell_type": "code",
   "execution_count": 132,
   "id": "4e396b99",
   "metadata": {},
   "outputs": [],
   "source": [
    "weights_mat = np.mat(weights)"
   ]
  },
  {
   "cell_type": "code",
   "execution_count": 133,
   "id": "a2522cce",
   "metadata": {},
   "outputs": [
    {
     "data": {
      "text/plain": [
       "matrix([[0.3],\n",
       "        [0.7]])"
      ]
     },
     "execution_count": 133,
     "metadata": {},
     "output_type": "execute_result"
    }
   ],
   "source": [
    "weights_mat"
   ]
  },
  {
   "cell_type": "code",
   "execution_count": 135,
   "id": "6c0a583b",
   "metadata": {},
   "outputs": [
    {
     "data": {
      "text/plain": [
       "array([[84.2],\n",
       "       [80.6],\n",
       "       [80.1],\n",
       "       [90. ],\n",
       "       [83.2],\n",
       "       [87.6],\n",
       "       [79.4],\n",
       "       [93.4]])"
      ]
     },
     "execution_count": 135,
     "metadata": {},
     "output_type": "execute_result"
    }
   ],
   "source": [
    "np.matmul(data, weights)"
   ]
  },
  {
   "cell_type": "code",
   "execution_count": 136,
   "id": "68c86c50",
   "metadata": {},
   "outputs": [
    {
     "data": {
      "text/plain": [
       "array([[84.2],\n",
       "       [80.6],\n",
       "       [80.1],\n",
       "       [90. ],\n",
       "       [83.2],\n",
       "       [87.6],\n",
       "       [79.4],\n",
       "       [93.4]])"
      ]
     },
     "execution_count": 136,
     "metadata": {},
     "output_type": "execute_result"
    }
   ],
   "source": [
    "np.dot(data, weights)"
   ]
  },
  {
   "cell_type": "code",
   "execution_count": 138,
   "id": "00c3c3a4",
   "metadata": {},
   "outputs": [
    {
     "data": {
      "text/plain": [
       "matrix([[84.2],\n",
       "        [80.6],\n",
       "        [80.1],\n",
       "        [90. ],\n",
       "        [83.2],\n",
       "        [87.6],\n",
       "        [79.4],\n",
       "        [93.4]])"
      ]
     },
     "execution_count": 138,
     "metadata": {},
     "output_type": "execute_result"
    }
   ],
   "source": [
    "data_mat * weights_mat"
   ]
  },
  {
   "cell_type": "code",
   "execution_count": 139,
   "id": "0769c8e3",
   "metadata": {},
   "outputs": [
    {
     "data": {
      "text/plain": [
       "array([[84.2],\n",
       "       [80.6],\n",
       "       [80.1],\n",
       "       [90. ],\n",
       "       [83.2],\n",
       "       [87.6],\n",
       "       [79.4],\n",
       "       [93.4]])"
      ]
     },
     "execution_count": 139,
     "metadata": {},
     "output_type": "execute_result"
    }
   ],
   "source": [
    "data @ weights"
   ]
  },
  {
   "cell_type": "markdown",
   "id": "9dacdee4",
   "metadata": {},
   "source": [
    "### 合并、分割"
   ]
  },
  {
   "cell_type": "code",
   "execution_count": 140,
   "id": "f142553b",
   "metadata": {},
   "outputs": [],
   "source": [
    "a = stock_change[:2, :4]\n",
    "b = stock_change[4:6, 0:4]"
   ]
  },
  {
   "cell_type": "code",
   "execution_count": 141,
   "id": "943d24ab",
   "metadata": {},
   "outputs": [
    {
     "data": {
      "text/plain": [
       "array([[-0.1380654 ,  1.1       ,  0.494523  ,  1.1       ],\n",
       "       [ 0.34332217, -0.44422631,  1.1       ,  0.317205  ]])"
      ]
     },
     "execution_count": 141,
     "metadata": {},
     "output_type": "execute_result"
    }
   ],
   "source": [
    "a"
   ]
  },
  {
   "cell_type": "code",
   "execution_count": 142,
   "id": "f67ebc2e",
   "metadata": {},
   "outputs": [
    {
     "data": {
      "text/plain": [
       "array([[ 1.1       , -1.02201517, -1.00186554, -0.8076735 ],\n",
       "       [ 1.1       ,  0.05337125,  1.1       ,  1.1       ]])"
      ]
     },
     "execution_count": 142,
     "metadata": {},
     "output_type": "execute_result"
    }
   ],
   "source": [
    "b"
   ]
  },
  {
   "cell_type": "code",
   "execution_count": 143,
   "id": "ef351f93",
   "metadata": {},
   "outputs": [
    {
     "data": {
      "text/plain": [
       "array([[-0.1380654 ,  1.1       ,  0.494523  ,  1.1       ,  1.1       ,\n",
       "        -1.02201517, -1.00186554, -0.8076735 ],\n",
       "       [ 0.34332217, -0.44422631,  1.1       ,  0.317205  ,  1.1       ,\n",
       "         0.05337125,  1.1       ,  1.1       ]])"
      ]
     },
     "execution_count": 143,
     "metadata": {},
     "output_type": "execute_result"
    }
   ],
   "source": [
    "np.hstack((a, b))"
   ]
  },
  {
   "cell_type": "code",
   "execution_count": 144,
   "id": "0cc327bd",
   "metadata": {},
   "outputs": [
    {
     "data": {
      "text/plain": [
       "array([[-0.1380654 ,  1.1       ,  0.494523  ,  1.1       ,  1.1       ,\n",
       "        -1.02201517, -1.00186554, -0.8076735 ],\n",
       "       [ 0.34332217, -0.44422631,  1.1       ,  0.317205  ,  1.1       ,\n",
       "         0.05337125,  1.1       ,  1.1       ]])"
      ]
     },
     "execution_count": 144,
     "metadata": {},
     "output_type": "execute_result"
    }
   ],
   "source": [
    "np.concatenate((a, b), axis=1)"
   ]
  },
  {
   "cell_type": "code",
   "execution_count": 145,
   "id": "0356a7ce",
   "metadata": {},
   "outputs": [
    {
     "data": {
      "text/plain": [
       "array([[-0.1380654 ,  1.1       ,  0.494523  ,  1.1       ],\n",
       "       [ 0.34332217, -0.44422631,  1.1       ,  0.317205  ],\n",
       "       [ 1.1       , -1.02201517, -1.00186554, -0.8076735 ],\n",
       "       [ 1.1       ,  0.05337125,  1.1       ,  1.1       ]])"
      ]
     },
     "execution_count": 145,
     "metadata": {},
     "output_type": "execute_result"
    }
   ],
   "source": [
    "np.vstack((a, b))"
   ]
  },
  {
   "cell_type": "code",
   "execution_count": 146,
   "id": "e16b3c94",
   "metadata": {},
   "outputs": [
    {
     "data": {
      "text/plain": [
       "array([[-0.1380654 ,  1.1       ,  0.494523  ,  1.1       ],\n",
       "       [ 0.34332217, -0.44422631,  1.1       ,  0.317205  ],\n",
       "       [ 1.1       , -1.02201517, -1.00186554, -0.8076735 ],\n",
       "       [ 1.1       ,  0.05337125,  1.1       ,  1.1       ]])"
      ]
     },
     "execution_count": 146,
     "metadata": {},
     "output_type": "execute_result"
    }
   ],
   "source": [
    "np.concatenate((a, b), axis=0)"
   ]
  },
  {
   "cell_type": "markdown",
   "id": "a57d2cd6",
   "metadata": {},
   "source": [
    "### IO操作与数据处理"
   ]
  },
  {
   "cell_type": "code",
   "execution_count": 152,
   "id": "332677f4",
   "metadata": {},
   "outputs": [],
   "source": [
    "data = np.genfromtxt(\"test.csv\", delimiter=\",\")"
   ]
  },
  {
   "cell_type": "code",
   "execution_count": 153,
   "id": "bf721482",
   "metadata": {},
   "outputs": [
    {
     "data": {
      "text/plain": [
       "array([[  nan,   nan,   nan,   nan],\n",
       "       [  1. , 123. ,   1.4,  23. ],\n",
       "       [  2. , 110. ,   nan,  18. ],\n",
       "       [  3. ,   nan,   2.1,  19. ]])"
      ]
     },
     "execution_count": 153,
     "metadata": {},
     "output_type": "execute_result"
    }
   ],
   "source": [
    "data"
   ]
  },
  {
   "cell_type": "code",
   "execution_count": 155,
   "id": "ff5cea60",
   "metadata": {},
   "outputs": [
    {
     "data": {
      "text/plain": [
       "numpy.float64"
      ]
     },
     "execution_count": 155,
     "metadata": {},
     "output_type": "execute_result"
    }
   ],
   "source": [
    "type(data[2,2])"
   ]
  },
  {
   "cell_type": "code",
   "execution_count": 159,
   "id": "55b4c5d5",
   "metadata": {},
   "outputs": [],
   "source": [
    "def fill_nan_by_column_mean(data):\n",
    "    for i in range(data.shape[1]):\n",
    "        nan_num = np.count_nonzero(data[:, i][data[:, i] != data[:, i]])\n",
    "        if nan_num > 0:\n",
    "            now_col = data[:, i]\n",
    "            now_col_not_nan = now_col[np.isnan(now_col) == False].sum()\n",
    "            now_col_mean = now_col_not_nan / (data.shape[0] - nan_num)\n",
    "            now_col[np.isnan(now_col)] = now_col_mean\n",
    "            data[:, i] = now_col\n",
    "    return data"
   ]
  },
  {
   "cell_type": "code",
   "execution_count": 157,
   "id": "802bc378",
   "metadata": {},
   "outputs": [
    {
     "data": {
      "text/plain": [
       "array([[  nan,   nan,   nan,   nan],\n",
       "       [  1. , 123. ,   1.4,  23. ],\n",
       "       [  2. , 110. ,   nan,  18. ],\n",
       "       [  3. ,   nan,   2.1,  19. ]])"
      ]
     },
     "execution_count": 157,
     "metadata": {},
     "output_type": "execute_result"
    }
   ],
   "source": [
    "data"
   ]
  },
  {
   "cell_type": "code",
   "execution_count": 160,
   "id": "f0e35437",
   "metadata": {},
   "outputs": [
    {
     "data": {
      "text/plain": [
       "array([[  2.  , 116.5 ,   1.75,  20.  ],\n",
       "       [  1.  , 123.  ,   1.4 ,  23.  ],\n",
       "       [  2.  , 110.  ,   1.75,  18.  ],\n",
       "       [  3.  , 116.5 ,   2.1 ,  19.  ]])"
      ]
     },
     "execution_count": 160,
     "metadata": {},
     "output_type": "execute_result"
    }
   ],
   "source": [
    "fill_nan_by_column_mean(data)"
   ]
  }
 ],
 "metadata": {
  "kernelspec": {
   "display_name": "pytorch_env",
   "language": "python",
   "name": "python3"
  },
  "language_info": {
   "codemirror_mode": {
    "name": "ipython",
    "version": 3
   },
   "file_extension": ".py",
   "mimetype": "text/x-python",
   "name": "python",
   "nbconvert_exporter": "python",
   "pygments_lexer": "ipython3",
   "version": "3.10.15"
  }
 },
 "nbformat": 4,
 "nbformat_minor": 5
}
